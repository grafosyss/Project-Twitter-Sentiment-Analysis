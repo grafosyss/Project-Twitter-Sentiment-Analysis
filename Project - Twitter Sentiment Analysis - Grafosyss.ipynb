{
 "cells": [
  {
   "cell_type": "markdown",
   "metadata": {},
   "source": [
    "Notes by - Kiran A Bendigeri\n",
    "Please Read 'Read me' file.\n",
    "\n",
    "Twitter Sentiment Analysis"
   ]
  },
  {
   "cell_type": "code",
   "execution_count": null,
   "metadata": {},
   "outputs": [],
   "source": [
    "import tweepy\n",
    "from textblob import TextBlob\n",
    "\n",
    "# Step 1 - Authenticate\n",
    "\n",
    "\n",
    "consumer_key = 'pi0sDeIlMNNILBEkpzngBpwd'\n",
    "consumer_secret = '8gI28sZEhKcWxYPhOFSnKOqVgoCdwrsZsiGUpFPWYGTx8KdXMn'\n",
    "\n",
    "access_token = '888237523201212416-ACR0ERsxxd51eTx3rKepO274j2ezRwd'\n",
    "access_token_secret = 'RIuaVQO9kfvTcHV4478TtJePfSa81iV9mVR7iQClYQrFA'\n",
    "\n",
    "auth = tweepy.OAuthHandler(consumer_key, consumer_secret)\n",
    "auth.set_access_token(access_token, access_token_secret)\n",
    "\n",
    "api = tweepy.API(auth)\n",
    "\n",
    "# Step 3 - Retrieve Tweets\n",
    "public_tweets = api.search('Modi')\n",
    "\n",
    "# CHALLENGE - Instead of printing out each tweet, save each Tweet to a CSV file\n",
    "# and label each one as either 'positive' or 'negative', depending on the sentiment\n",
    "# You can decide the sentiment polarity threshold yourself\n",
    "\n",
    "\n",
    "for tweet in public_tweets:\n",
    "    print(tweet.text)\n",
    "\n",
    "    # Step 4 Perform Sentiment Analysis on Tweets\n",
    "    analysis = TextBlob(tweet.text)\n",
    "    print(analysis.sentiment)\n",
    "    print(\"\")"
   ]
  }
 ],
 "metadata": {
  "kernelspec": {
   "display_name": "Python 3",
   "language": "python",
   "name": "python3"
  },
  "language_info": {
   "codemirror_mode": {
    "name": "ipython",
    "version": 3
   },
   "file_extension": ".py",
   "mimetype": "text/x-python",
   "name": "python",
   "nbconvert_exporter": "python",
   "pygments_lexer": "ipython3",
   "version": "3.6.4"
  }
 },
 "nbformat": 4,
 "nbformat_minor": 2
}
